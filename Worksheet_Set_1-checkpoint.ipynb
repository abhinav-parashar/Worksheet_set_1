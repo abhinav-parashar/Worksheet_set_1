{
 "cells": [
  {
   "cell_type": "code",
   "execution_count": 15,
   "metadata": {},
   "outputs": [
    {
     "name": "stdout",
     "output_type": "stream",
     "text": [
      "enter the value of number=4\n",
      "factorial of number given= 24\n"
     ]
    }
   ],
   "source": [
    "#Q11\n",
    "#Write a python program to find the factorial of a number?\n",
    "\n",
    "factorial_number= int(input(\"enter the value of number=\"))\n",
    "fact= 1\n",
    "\n",
    "for i in range (1,factorial_number+1):\n",
    "    fact=fact*i\n",
    "    \n",
    "print(\"factorial of number given=\",fact)\n",
    "\n"
   ]
  },
  {
   "cell_type": "code",
   "execution_count": 100,
   "metadata": {},
   "outputs": [
    {
     "name": "stdout",
     "output_type": "stream",
     "text": [
      "enter the value of number =17\n",
      "17 the number is prime number\n"
     ]
    }
   ],
   "source": [
    "#Q12\n",
    "# Write a python program to find whether a number is prime or composite?\n",
    "\n",
    "number= int(input(\"enter the value of number =\"))\n",
    "if number >1:\n",
    "        for i in range(2,number):\n",
    "            if (number %i)==0:\n",
    "                print(number,'The number is composite number')\n",
    "                break\n",
    "            else:\n",
    "                print(number,'the number is prime number')\n",
    "                break"
   ]
  },
  {
   "cell_type": "code",
   "execution_count": 103,
   "metadata": {},
   "outputs": [
    {
     "name": "stdout",
     "output_type": "stream",
     "text": [
      "Enter any name:NAMAN\n",
      "The string is a palindrome\n"
     ]
    }
   ],
   "source": [
    "#Q13\n",
    "#Write a python program to check whether a given string is palindrome or not?\n",
    "\n",
    "str=input(\"Enter any name:\")\n",
    "if(str==str[::-1]):\n",
    "   print(\"The string is a palindrome\")\n",
    "else:\n",
    "   print(\"The string isn't a palindrome\")"
   ]
  },
  {
   "cell_type": "code",
   "execution_count": 127,
   "metadata": {},
   "outputs": [
    {
     "name": "stdout",
     "output_type": "stream",
     "text": [
      "enter base value=3\n",
      "enter perpendicular value=4\n"
     ]
    },
    {
     "data": {
      "text/plain": [
       "5.0"
      ]
     },
     "execution_count": 127,
     "metadata": {},
     "output_type": "execute_result"
    }
   ],
   "source": [
    "#Q14\n",
    "#Write a Python program to get the third side of right-angled triangle from two given sides?\n",
    "\n",
    "# IN triangle ABC\n",
    "\n",
    "b=input('enter base value=')\n",
    "p=input('enter perpendicular value=')\n",
    "h= (int(b)**2 + int(p)**2)**.5\n",
    "h"
   ]
  },
  {
   "cell_type": "code",
   "execution_count": 159,
   "metadata": {},
   "outputs": [
    {
     "name": "stdout",
     "output_type": "stream",
     "text": [
      "the count of the chracters are: \n",
      " {'p': 1, 'y': 1, 't': 3, 'h': 2, 'o': 1, 'n': 1, 'i': 1, 's': 1, 'e': 2, 'f': 1, 'u': 2, 'r': 1}\n"
     ]
    }
   ],
   "source": [
    "#Q15\n",
    "#Write a python program to print the frequency of each of the characters present in a given string?\n",
    "\n",
    "word = \"pythonisthefuture\"\n",
    "dict= {}\n",
    "\n",
    "for i in word:\n",
    "    dict[i]= dict.get(i,0)+1\n",
    "    \n",
    "print( \"the count of the chracters are: \\n\",dict)"
   ]
  },
  {
   "cell_type": "markdown",
   "metadata": {},
   "source": [
    "Thank you :)\n",
    "\n",
    "# Slight doubts in Prime number"
   ]
  }
 ],
 "metadata": {
  "kernelspec": {
   "display_name": "Python 3",
   "language": "python",
   "name": "python3"
  },
  "language_info": {
   "codemirror_mode": {
    "name": "ipython",
    "version": 3
   },
   "file_extension": ".py",
   "mimetype": "text/x-python",
   "name": "python",
   "nbconvert_exporter": "python",
   "pygments_lexer": "ipython3",
   "version": "3.8.5"
  }
 },
 "nbformat": 4,
 "nbformat_minor": 4
}
